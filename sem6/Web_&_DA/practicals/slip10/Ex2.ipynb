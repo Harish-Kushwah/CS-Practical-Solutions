{
 "cells": [
  {
   "cell_type": "markdown",
   "metadata": {},
   "source": [
    "Q. 2)Create the following dataset in python & Convert the categorical values into numeric format.Apply\n",
    "the apriori algorithm on the above dataset to generate the frequent itemsets and association rules. Repeat\n",
    "the process with different min_sup values."
   ]
  },
  {
   "cell_type": "code",
   "execution_count": 11,
   "metadata": {},
   "outputs": [
    {
     "name": "stdout",
     "output_type": "stream",
     "text": [
      "   support       itemsets\n",
      "0      0.6        (apple)\n",
      "1      0.6        (bread)\n",
      "2      0.8         (milk)\n",
      "3      0.6  (bread, milk)\n",
      "  antecedents consequents  antecedent support  consequent support  support  \\\n",
      "0     (bread)      (milk)                 0.6                 0.8      0.6   \n",
      "1      (milk)     (bread)                 0.8                 0.6      0.6   \n",
      "\n",
      "   confidence  lift  leverage  conviction  zhangs_metric  \n",
      "0        1.00  1.25      0.12         inf            0.5  \n",
      "1        0.75  1.25      0.12         1.6            1.0  \n"
     ]
    }
   ],
   "source": [
    "import pandas as pd\n",
    "from mlxtend.frequent_patterns import apriori, association_rules\n",
    "from mlxtend.preprocessing import TransactionEncoder\n",
    "\n",
    "transactions = [['eggs','milk','bread'],\n",
    "                ['eggs','apple'],\n",
    "                ['milk','bread'],\n",
    "                ['apple','milk'],\n",
    "                ['milk','apple','bread']]\n",
    "\n",
    "te = TransactionEncoder()\n",
    "te_array = te.fit(transactions).transform(transactions)\n",
    "\n",
    "df = pd.DataFrame(te_array , columns = te.columns_)\n",
    "\n",
    "freq_pattern = apriori(df , min_support=0.6 , use_colnames=True)\n",
    "print(freq_pattern)\n",
    "\n",
    "rules = association_rules(freq_pattern , metric='support', min_threshold=0.05) \n",
    "print(rules)"
   ]
  }
 ],
 "metadata": {
  "kernelspec": {
   "display_name": "Python 3",
   "language": "python",
   "name": "python3"
  },
  "language_info": {
   "codemirror_mode": {
    "name": "ipython",
    "version": 3
   },
   "file_extension": ".py",
   "mimetype": "text/x-python",
   "name": "python",
   "nbconvert_exporter": "python",
   "pygments_lexer": "ipython3",
   "version": "3.11.1"
  }
 },
 "nbformat": 4,
 "nbformat_minor": 2
}
