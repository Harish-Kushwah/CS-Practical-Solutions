{
 "cells": [
  {
   "cell_type": "markdown",
   "metadata": {},
   "source": [
    "Q. 2)Create your own transactions dataset and apply the above process on your dataset"
   ]
  },
  {
   "cell_type": "code",
   "execution_count": 6,
   "metadata": {},
   "outputs": [
    {
     "name": "stdout",
     "output_type": "stream",
     "text": [
      "   support         itemsets\n",
      "0     0.75          (Apple)\n",
      "1     0.50          (Mango)\n",
      "2     0.75         (Orange)\n",
      "3     0.50      (PineApple)\n",
      "4     0.50   (Mango, Apple)\n",
      "5     0.50  (Orange, Apple)\n",
      "  antecedents consequents  antecedent support  consequent support  support  \\\n",
      "0     (Mango)     (Apple)                0.50                0.75      0.5   \n",
      "1     (Apple)     (Mango)                0.75                0.50      0.5   \n",
      "2    (Orange)     (Apple)                0.75                0.75      0.5   \n",
      "3     (Apple)    (Orange)                0.75                0.75      0.5   \n",
      "\n",
      "   confidence      lift  leverage  conviction  zhangs_metric  \n",
      "0    1.000000  1.333333    0.1250         inf       0.500000  \n",
      "1    0.666667  1.333333    0.1250        1.50       1.000000  \n",
      "2    0.666667  0.888889   -0.0625        0.75      -0.333333  \n",
      "3    0.666667  0.888889   -0.0625        0.75      -0.333333  \n"
     ]
    }
   ],
   "source": [
    "import pandas as pd \n",
    "from mlxtend.frequent_patterns import apriori,association_rules\n",
    "from mlxtend.preprocessing import TransactionEncoder\n",
    "\n",
    "transactions = [['Apple','Mango','PineApple'],\n",
    "                ['Apple','Orange'],\n",
    "                ['Mango' , 'Apple' , 'Orange'],\n",
    "                ['PineApple','Orange']]\n",
    "\n",
    "te = TransactionEncoder()\n",
    "te_array = te.fit(transactions).transform(transactions)\n",
    "\n",
    "df = pd.DataFrame(te_array , columns=te.columns_)\n",
    "\n",
    "freq_pattern = apriori(df , min_support=0.5 , use_colnames=True)\n",
    "print(freq_pattern)\n",
    "\n",
    "rules = association_rules(freq_pattern , metric='support' , min_threshold=0.05)\n",
    "print(rules)\n"
   ]
  }
 ],
 "metadata": {
  "kernelspec": {
   "display_name": "Python 3",
   "language": "python",
   "name": "python3"
  },
  "language_info": {
   "codemirror_mode": {
    "name": "ipython",
    "version": 3
   },
   "file_extension": ".py",
   "mimetype": "text/x-python",
   "name": "python",
   "nbconvert_exporter": "python",
   "pygments_lexer": "ipython3",
   "version": "3.11.1"
  }
 },
 "nbformat": 4,
 "nbformat_minor": 2
}
