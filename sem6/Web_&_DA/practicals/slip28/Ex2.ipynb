{
 "cells": [
  {
   "cell_type": "markdown",
   "metadata": {},
   "source": [
    "Q. 2 ) Build a simple linear regression model for Car Dataset."
   ]
  },
  {
   "cell_type": "code",
   "execution_count": 9,
   "metadata": {},
   "outputs": [],
   "source": [
    "import pandas as pd\n",
    "import numpy as np\n",
    "from sklearn.model_selection import train_test_split\n",
    "from sklearn.linear_model import LinearRegression\n",
    "from sklearn.metrics import mean_squared_error ,r2_score\n",
    "car_data = pd.read_csv(\"C:\\\\Users\\\\haris\\\\Desktop\\\\TYBCS\\\\CS-Practical-Solutions\\\\sem6\\\\Web_&_DA\\\\datasets\\\\car_data.csv\")\n",
    "\n",
    "car_data.dropna(inplace = True)\n",
    "x = car_data[['year' ,'km_driven']]\n",
    "y = car_data['selling_price']\n",
    "\n",
    "x_train,x_test,y_train,y_test = train_test_split(x,y,test_size = 0.25)"
   ]
  },
  {
   "cell_type": "code",
   "execution_count": 10,
   "metadata": {},
   "outputs": [],
   "source": [
    "model = LinearRegression()\n",
    "\n",
    "model.fit(x_train,y_train)\n",
    "\n",
    "y_pred = model.predict(x_test)\n"
   ]
  },
  {
   "cell_type": "code",
   "execution_count": 11,
   "metadata": {},
   "outputs": [
    {
     "name": "stdout",
     "output_type": "stream",
     "text": [
      "Mean Squared Error : 315356922491.09784\n",
      "R-squared score : 0.16054697506019133\n",
      "[612618.64860596 727135.2149158   97665.26952936 ... 436472.6618094\n",
      " 431812.01240981 448885.80102529]\n"
     ]
    }
   ],
   "source": [
    "mse = mean_squared_error(y_test , y_pred)\n",
    "r2 = r2_score(y_test , y_pred)\n",
    "\n",
    "print(\"Mean Squared Error :\" , mse)\n",
    "print(\"R-squared score :\" , r2)\n",
    "\n",
    "print(y_pred)"
   ]
  }
 ],
 "metadata": {
  "kernelspec": {
   "display_name": "Python 3",
   "language": "python",
   "name": "python3"
  },
  "language_info": {
   "codemirror_mode": {
    "name": "ipython",
    "version": 3
   },
   "file_extension": ".py",
   "mimetype": "text/x-python",
   "name": "python",
   "nbconvert_exporter": "python",
   "pygments_lexer": "ipython3",
   "version": "3.11.1"
  }
 },
 "nbformat": 4,
 "nbformat_minor": 2
}
