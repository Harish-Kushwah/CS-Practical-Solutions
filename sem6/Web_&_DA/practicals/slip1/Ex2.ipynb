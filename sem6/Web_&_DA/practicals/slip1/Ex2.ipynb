{
 "cells": [
  {
   "cell_type": "markdown",
   "metadata": {},
   "source": [
    "Q. 2)Create ‘Position_Salaries’ Data set. Build a linear regression  model by identifying  independent and \n",
    "target  variable. Split the variables  into training and testing sets. then  divide the training and testing sets \n",
    "into a 7:3 ratio, respectively and print them. Build a simple linear regression model.  "
   ]
  },
  {
   "cell_type": "markdown",
   "metadata": {},
   "source": [
    " NOTE:CHANGE THE DATASET PATH WITH RESPECT TO YOU DEVICE(colab,notebook,etc)"
   ]
  },
  {
   "cell_type": "code",
   "execution_count": 3,
   "metadata": {},
   "outputs": [],
   "source": [
    "import pandas as pd\n",
    "import numpy as np\n",
    "import matplotlib.pyplot as plt\n",
    "from sklearn.model_selection import train_test_split\n",
    "from sklearn.linear_model import LinearRegression\n",
    "from sklearn.metrics import r2_score , mean_squared_error\n"
   ]
  },
  {
   "cell_type": "code",
   "execution_count": 4,
   "metadata": {},
   "outputs": [],
   "source": [
    "df = pd.read_csv(\"C:\\\\Users\\\\haris\\\\Desktop\\\\TYBCS\\\\CS-Practical-Solutions\\\\sem6\\\\Web_&_DA\\\\datasets\\\\Position_Salaries.csv\")\n",
    "x =  np.array(df[['Salary']])\n",
    "y = np.array(df['Level'])"
   ]
  },
  {
   "cell_type": "code",
   "execution_count": 9,
   "metadata": {},
   "outputs": [
    {
     "name": "stdout",
     "output_type": "stream",
     "text": [
      "R2 score : 0.50\n",
      "Mean Error : 3.4385495814458067\n"
     ]
    }
   ],
   "source": [
    "x_train,x_test,y_train,y_test = train_test_split(x,y , test_size = 0.30)\n",
    "\n",
    "regressor = LinearRegression()\n",
    "regressor.fit(x_train,y_train)\n",
    "\n",
    "y_pred = regressor.predict(x_test)\n",
    "\n",
    "print('R2 score : %.2f' % r2_score(y_test,y_pred))\n",
    "print('Mean Error :',mean_squared_error(y_test,y_pred))\n"
   ]
  },
  {
   "cell_type": "code",
   "execution_count": 10,
   "metadata": {},
   "outputs": [
    {
     "name": "stdout",
     "output_type": "stream",
     "text": [
      "Salary : 45000 Actual : 1 Predicted :  4\n",
      "Salary : 50000 Actual : 2 Predicted :  4\n",
      "Salary : 60000 Actual : 3 Predicted :  4\n",
      "Salary : 80000 Actual : 4 Predicted :  4\n",
      "Salary : 110000 Actual : 5 Predicted :  5\n",
      "Salary : 150000 Actual : 6 Predicted :  5\n",
      "Salary : 200000 Actual : 7 Predicted :  5\n",
      "Salary : 300000 Actual : 8 Predicted :  6\n",
      "Salary : 500000 Actual : 9 Predicted :  7\n",
      "Salary : 1000000 Actual : 10 Predicted :  11\n"
     ]
    }
   ],
   "source": [
    "def predict_level(salary):\n",
    "    result = regressor.predict(np.array(salary).reshape(1,-1))\n",
    "    return result[0]\n",
    "\n",
    "for [salary,level] in zip(x,y):\n",
    "    print(\"Salary :\" , salary[0] ,'Actual :',level  , \"Predicted : \", round(predict_level(salary)))"
   ]
  }
 ],
 "metadata": {
  "kernelspec": {
   "display_name": "Python 3",
   "language": "python",
   "name": "python3"
  },
  "language_info": {
   "codemirror_mode": {
    "name": "ipython",
    "version": 3
   },
   "file_extension": ".py",
   "mimetype": "text/x-python",
   "name": "python",
   "nbconvert_exporter": "python",
   "pygments_lexer": "ipython3",
   "version": "3.11.1"
  }
 },
 "nbformat": 4,
 "nbformat_minor": 2
}
