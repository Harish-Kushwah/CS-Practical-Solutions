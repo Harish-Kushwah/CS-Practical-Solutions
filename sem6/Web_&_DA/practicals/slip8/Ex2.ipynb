{
 "cells": [
  {
   "cell_type": "markdown",
   "metadata": {},
   "source": [
    "Q. 2)Download the groceries dataset. Write a python program to read the dataset and display its\n",
    "information. Preprocess the data (drop null values etc.) Convert the categorical values into numeric\n",
    "format. Apply the apriori algorithm on the above dataset to generate the frequent itemsets and association\n",
    "rules."
   ]
  },
  {
   "cell_type": "code",
   "execution_count": 61,
   "metadata": {},
   "outputs": [],
   "source": [
    "import pandas as pd\n",
    "from mlxtend.frequent_patterns import apriori , association_rules\n",
    "from mlxtend.preprocessing import TransactionEncoder\n",
    "\n",
    "df = pd.read_csv(\"C:\\\\Users\\\\haris\\\\Desktop\\\\TYBCS\\\\CS-Practical-Solutions\\\\sem6\\\\Web_&_DA\\\\datasets\\\\Groceries_dataset.csv\")\n",
    "df.dropna(inplace=True)"
   ]
  },
  {
   "cell_type": "code",
   "execution_count": 64,
   "metadata": {},
   "outputs": [
    {
     "ename": "TypeError",
     "evalue": "can only concatenate list (not \"str\") to list",
     "output_type": "error",
     "traceback": [
      "\u001b[1;31m---------------------------------------------------------------------------\u001b[0m",
      "\u001b[1;31mTypeError\u001b[0m                                 Traceback (most recent call last)",
      "Cell \u001b[1;32mIn[64], line 9\u001b[0m\n\u001b[0;32m      7\u001b[0m \u001b[38;5;28;01mfor\u001b[39;00m d \u001b[38;5;129;01min\u001b[39;00m x:\n\u001b[0;32m      8\u001b[0m     \u001b[38;5;28;01mif\u001b[39;00m d[\u001b[38;5;241m0\u001b[39m] \u001b[38;5;129;01min\u001b[39;00m t:\n\u001b[1;32m----> 9\u001b[0m         t[d[\u001b[38;5;241m0\u001b[39m]] \u001b[38;5;241m=\u001b[39m  \u001b[43mt\u001b[49m\u001b[43m[\u001b[49m\u001b[43md\u001b[49m\u001b[43m[\u001b[49m\u001b[38;5;241;43m0\u001b[39;49m\u001b[43m]\u001b[49m\u001b[43m]\u001b[49m\u001b[43m \u001b[49m\u001b[38;5;241;43m+\u001b[39;49m\u001b[43m \u001b[49m\u001b[38;5;124;43m'\u001b[39;49m\u001b[38;5;124;43m,\u001b[39;49m\u001b[38;5;124;43m'\u001b[39;49m \u001b[38;5;241m+\u001b[39m \u001b[38;5;28mlist\u001b[39m(d[\u001b[38;5;241m1\u001b[39m]) \n\u001b[0;32m     10\u001b[0m     \u001b[38;5;28;01melse\u001b[39;00m:\n\u001b[0;32m     11\u001b[0m         t[d[\u001b[38;5;241m0\u001b[39m]] \u001b[38;5;241m=\u001b[39m \u001b[38;5;28mlist\u001b[39m(d[\u001b[38;5;241m1\u001b[39m]) \n",
      "\u001b[1;31mTypeError\u001b[0m: can only concatenate list (not \"str\") to list"
     ]
    }
   ],
   "source": [
    "import numpy as np\n",
    "x = df[['Date','itemDescription']]\n",
    "x = np.array(x)\n",
    "t = {}\n",
    "\n",
    "# print(x[0])\n",
    "for d in x:\n",
    "    if d[0] in t:\n",
    "        t[d[0]] =  t[d[0]] + ',' + list(d[1]) \n",
    "    else:\n",
    "        t[d[0]] = list(d[1]) \n",
    "    \n",
    "    \n",
    "# tr = []\n",
    "# for d , i in t.items():\n",
    "#     tr.append(list(i))\n",
    "#     print(list(i))\n",
    "\n",
    "# tr\n",
    "\n",
    "d = pd.DataFrame(t.values())\n",
    "d.dropna(inplace= True)\n",
    "print(d)\n",
    "\n",
    "# te = TransactionEncoder()\n",
    "# te_arr = te.fit(d)\n",
    "# te_arr"
   ]
  }
 ],
 "metadata": {
  "kernelspec": {
   "display_name": "Python 3",
   "language": "python",
   "name": "python3"
  },
  "language_info": {
   "codemirror_mode": {
    "name": "ipython",
    "version": 3
   },
   "file_extension": ".py",
   "mimetype": "text/x-python",
   "name": "python",
   "nbconvert_exporter": "python",
   "pygments_lexer": "ipython3",
   "version": "3.11.1"
  }
 },
 "nbformat": 4,
 "nbformat_minor": 2
}
