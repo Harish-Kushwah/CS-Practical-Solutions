{
 "cells": [
  {
   "cell_type": "markdown",
   "metadata": {},
   "source": [
    "Q. 2)Create ‘User’ Data set having 5 columns namely: User ID, Gender, Age, Estimated Salary and \n",
    "Purchased. Build a logistic regression model that can predict whether on the given parameter a person \n",
    "will buy a car or not."
   ]
  },
  {
   "cell_type": "markdown",
   "metadata": {},
   "source": [
    "All Imports"
   ]
  },
  {
   "cell_type": "code",
   "execution_count": 109,
   "metadata": {},
   "outputs": [],
   "source": [
    "import pandas as pd\n",
    "import numpy as np\n",
    "from sklearn.model_selection import train_test_split\n",
    "from sklearn.linear_model import LogisticRegression\n",
    "import seaborn  as sn \n",
    "from sklearn import metrics"
   ]
  },
  {
   "cell_type": "markdown",
   "metadata": {},
   "source": [
    "Creating data frame"
   ]
  },
  {
   "cell_type": "code",
   "execution_count": 110,
   "metadata": {},
   "outputs": [],
   "source": [
    "# Creating the dataset\n",
    "data = {\n",
    "    'User ID': [1, 2, 3, 4, 5],\n",
    "    'Gender': ['Male', 'Female', 'Male', 'Female', 'Male'],\n",
    "    'Age': [25, 30, 35, 40, 45],\n",
    "    'Estimated Salary': [30000, 40000, 50000, 60000, 70000],\n",
    "    'Purchased': [0, 1, 1, 1, 0]  # 0 for not purchased, 1 for purchased\n",
    "}\n",
    "\n",
    "df = pd.DataFrame(data)"
   ]
  },
  {
   "cell_type": "markdown",
   "metadata": {},
   "source": [
    "Splitting the training and test dataset"
   ]
  },
  {
   "cell_type": "code",
   "execution_count": 114,
   "metadata": {},
   "outputs": [],
   "source": [
    "x = np.array(df[['Estimated Salary']])  # estimated salary is independent variable\n",
    "y = np.array(df['Purchased']) # purchased is dependent variable\n",
    "\n",
    "# splitting the data into training and testing dataset\n",
    "x_train, x_test,y_train,y_test = train_test_split(x,y,test_size=0.25)\n",
    "\n",
    "model = LogisticRegression()\n",
    "model.fit(x_train,y_train)\n",
    "y_pred = model.predict(x_test)"
   ]
  },
  {
   "cell_type": "markdown",
   "metadata": {},
   "source": [
    "Evaluating the model"
   ]
  },
  {
   "cell_type": "code",
   "execution_count": 112,
   "metadata": {},
   "outputs": [
    {
     "name": "stdout",
     "output_type": "stream",
     "text": [
      "Accuracy  50.0 %\n",
      "Salary\tActual\tPredicted\n",
      "40000 \tYes \tYes\n",
      "30000 \tNo \tYes\n"
     ]
    }
   ],
   "source": [
    "print(\"Accuracy \" , metrics.accuracy_score(y_test,y_pred)*100,\"%\")\n",
    "def getText(num):\n",
    "    if num == 0:\n",
    "        return \"\\tNo\"\n",
    "    return \"\\tYes\"\n",
    "\n",
    "print(\"Salary\\tActual\\tPredicted\")\n",
    "for [salary ,actual, predicted] in zip(x_test,y_test,y_pred):\n",
    "    print(salary[0] ,getText(actual),getText(predicted))\n"
   ]
  }
 ],
 "metadata": {
  "kernelspec": {
   "display_name": "Python 3",
   "language": "python",
   "name": "python3"
  },
  "language_info": {
   "codemirror_mode": {
    "name": "ipython",
    "version": 3
   },
   "file_extension": ".py",
   "mimetype": "text/x-python",
   "name": "python",
   "nbconvert_exporter": "python",
   "pygments_lexer": "ipython3",
   "version": "3.11.1"
  }
 },
 "nbformat": 4,
 "nbformat_minor": 2
}
