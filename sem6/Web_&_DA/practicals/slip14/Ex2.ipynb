{
 "cells": [
  {
   "cell_type": "markdown",
   "metadata": {},
   "source": [
    "Q. 2)Create the following dataset in python & Convert the categorical values into numeric format.Apply\n",
    "the apriori algorithm on the above dataset to generate the frequent itemsets and association rules. Repeat\n",
    "the process with different min_sup values."
   ]
  },
  {
   "cell_type": "code",
   "execution_count": 12,
   "metadata": {},
   "outputs": [
    {
     "name": "stdout",
     "output_type": "stream",
     "text": [
      "   support                  itemsets\n",
      "0     0.75                  (Banana)\n",
      "1     0.75                 (Carrots)\n",
      "2     1.00                   (Mango)\n",
      "3     0.50         (Carrots, Banana)\n",
      "4     0.75           (Banana, Mango)\n",
      "5     0.75          (Carrots, Mango)\n",
      "6     0.50  (Carrots, Banana, Mango)\n",
      "          antecedents        consequents  ...  conviction  zhangs_metric\n",
      "0           (Carrots)           (Banana)  ...        0.75      -0.333333\n",
      "1            (Banana)          (Carrots)  ...        0.75      -0.333333\n",
      "2            (Banana)            (Mango)  ...         inf       0.000000\n",
      "3             (Mango)           (Banana)  ...        1.00       0.000000\n",
      "4           (Carrots)            (Mango)  ...         inf       0.000000\n",
      "5             (Mango)          (Carrots)  ...        1.00       0.000000\n",
      "6   (Carrots, Banana)            (Mango)  ...         inf       0.000000\n",
      "7    (Carrots, Mango)           (Banana)  ...        0.75      -0.333333\n",
      "8     (Banana, Mango)          (Carrots)  ...        0.75      -0.333333\n",
      "9           (Carrots)    (Banana, Mango)  ...        0.75      -0.333333\n",
      "10           (Banana)   (Carrots, Mango)  ...        0.75      -0.333333\n",
      "11            (Mango)  (Carrots, Banana)  ...        1.00       0.000000\n",
      "\n",
      "[12 rows x 10 columns]\n"
     ]
    }
   ],
   "source": [
    "import pandas as pd\n",
    "from mlxtend.frequent_patterns import apriori , association_rules\n",
    "from mlxtend.preprocessing import TransactionEncoder\n",
    "\n",
    "tansactions = [['Apple','Mango','Banana'],\n",
    "               ['Mango','Banana','Cabbage','Carrots'],\n",
    "               ['Mango','Banana' ,'Carrots'],\n",
    "               ['Mango' ,'Carrots']]\n",
    "\n",
    "te = TransactionEncoder()\n",
    "te_array = te.fit(tansactions).transform(tansactions)\n",
    "\n",
    "df = pd.DataFrame(te_array , columns=te.columns_)\n",
    "\n",
    "freq_items = apriori(df , min_support=0.5 , use_colnames=True)\n",
    "print(freq_items)\n",
    "\n",
    "rules = association_rules(freq_items , metric='support' , min_threshold=0.05)\n",
    "print(rules)\n"
   ]
  }
 ],
 "metadata": {
  "kernelspec": {
   "display_name": "Python 3",
   "language": "python",
   "name": "python3"
  },
  "language_info": {
   "codemirror_mode": {
    "name": "ipython",
    "version": 3
   },
   "file_extension": ".py",
   "mimetype": "text/x-python",
   "name": "python",
   "nbconvert_exporter": "python",
   "pygments_lexer": "ipython3",
   "version": "3.11.1"
  }
 },
 "nbformat": 4,
 "nbformat_minor": 2
}
